{
 "cells": [
  {
   "cell_type": "code",
   "execution_count": 1,
   "id": "ba5dab72-b016-4977-8e66-87d0d7d8da82",
   "metadata": {},
   "outputs": [
    {
     "name": "stdout",
     "output_type": "stream",
     "text": [
      "Welcome to 'Guess the Alphabet'!\n",
      "I'm thinking of a letter between A and Z. Can you guess it?\n"
     ]
    },
    {
     "name": "stdin",
     "output_type": "stream",
     "text": [
      "Enter your guess (A-Z):  a\n"
     ]
    },
    {
     "name": "stdout",
     "output_type": "stream",
     "text": [
      "The secret letter is later in the alphabet.\n"
     ]
    },
    {
     "name": "stdin",
     "output_type": "stream",
     "text": [
      "Enter your guess (A-Z):  e\n"
     ]
    },
    {
     "name": "stdout",
     "output_type": "stream",
     "text": [
      "The secret letter is later in the alphabet.\n"
     ]
    },
    {
     "name": "stdin",
     "output_type": "stream",
     "text": [
      "Enter your guess (A-Z):  z\n"
     ]
    },
    {
     "name": "stdout",
     "output_type": "stream",
     "text": [
      "The secret letter is earlier in the alphabet.\n"
     ]
    },
    {
     "name": "stdin",
     "output_type": "stream",
     "text": [
      "Enter your guess (A-Z):  f\n"
     ]
    },
    {
     "name": "stdout",
     "output_type": "stream",
     "text": [
      "The secret letter is later in the alphabet.\n"
     ]
    },
    {
     "name": "stdin",
     "output_type": "stream",
     "text": [
      "Enter your guess (A-Z):  j\n"
     ]
    },
    {
     "name": "stdout",
     "output_type": "stream",
     "text": [
      "The secret letter is later in the alphabet.\n"
     ]
    },
    {
     "name": "stdin",
     "output_type": "stream",
     "text": [
      "Enter your guess (A-Z):  p\n"
     ]
    },
    {
     "name": "stdout",
     "output_type": "stream",
     "text": [
      "The secret letter is later in the alphabet.\n"
     ]
    },
    {
     "name": "stdin",
     "output_type": "stream",
     "text": [
      "Enter your guess (A-Z):  t\n"
     ]
    },
    {
     "name": "stdout",
     "output_type": "stream",
     "text": [
      "The secret letter is later in the alphabet.\n"
     ]
    },
    {
     "name": "stdin",
     "output_type": "stream",
     "text": [
      "Enter your guess (A-Z):  v\n"
     ]
    },
    {
     "name": "stdout",
     "output_type": "stream",
     "text": [
      "The secret letter is later in the alphabet.\n"
     ]
    },
    {
     "name": "stdin",
     "output_type": "stream",
     "text": [
      "Enter your guess (A-Z):  w\n"
     ]
    },
    {
     "name": "stdout",
     "output_type": "stream",
     "text": [
      "Congratulations! You guessed it in 9 attempts.\n"
     ]
    }
   ],
   "source": [
    "import random\n",
    "import string\n",
    "\n",
    "def guess_the_alphabet():\n",
    "    # Randomly select a letter from A-Z (uppercase).\n",
    "    secret_letter = random.choice(string.ascii_uppercase)\n",
    "    attempts = 0\n",
    "    print(\"Welcome to 'Guess the Alphabet'!\")\n",
    "    print(\"I'm thinking of a letter between A and Z. Can you guess it?\")\n",
    "\n",
    "    while True:\n",
    "        guess = input(\"Enter your guess (A-Z): \").strip().upper()\n",
    "        \n",
    "        # Input validation\n",
    "        if len(guess) != 1 or guess not in string.ascii_uppercase:\n",
    "            print(\"Invalid input. Please enter a single letter between A and Z.\")\n",
    "            continue\n",
    "\n",
    "        attempts += 1\n",
    "\n",
    "        if guess == secret_letter:\n",
    "            print(f\"Congratulations! You guessed it in {attempts} attempts.\")\n",
    "            break\n",
    "        elif guess < secret_letter:\n",
    "            print(\"The secret letter is later in the alphabet.\")\n",
    "        else:\n",
    "            print(\"The secret letter is earlier in the alphabet.\")\n",
    "\n",
    "if __name__ == \"__main__\":\n",
    "    guess_the_alphabet()\n"
   ]
  },
  {
   "cell_type": "code",
   "execution_count": null,
   "id": "8748ecff-3733-40f6-a4b7-f119728d82fa",
   "metadata": {},
   "outputs": [],
   "source": []
  }
 ],
 "metadata": {
  "kernelspec": {
   "display_name": "Python 3 (ipykernel)",
   "language": "python",
   "name": "python3"
  },
  "language_info": {
   "codemirror_mode": {
    "name": "ipython",
    "version": 3
   },
   "file_extension": ".py",
   "mimetype": "text/x-python",
   "name": "python",
   "nbconvert_exporter": "python",
   "pygments_lexer": "ipython3",
   "version": "3.12.4"
  }
 },
 "nbformat": 4,
 "nbformat_minor": 5
}
